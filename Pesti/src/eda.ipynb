{
 "cells": [
  {
   "cell_type": "code",
   "execution_count": 79,
   "metadata": {
    "collapsed": true
   },
   "outputs": [],
   "source": [
    "import pandas as pd\n",
    "from sklearn.preprocessing import LabelEncoder\n",
    "labelencoder = LabelEncoder()"
   ]
  },
  {
   "cell_type": "code",
   "execution_count": 80,
   "outputs": [],
   "source": [
    "df = pd.read_csv('../data/data.csv')"
   ],
   "metadata": {
    "collapsed": false,
    "pycharm": {
     "name": "#%%\n"
    }
   }
  },
  {
   "cell_type": "code",
   "execution_count": 81,
   "outputs": [
    {
     "data": {
      "text/plain": "array(['Insecticides', 'Bactericides', 'Herbicides'], dtype=object)"
     },
     "execution_count": 81,
     "metadata": {},
     "output_type": "execute_result"
    }
   ],
   "source": [
    "df.Pesticide_Use_Category.unique()"
   ],
   "metadata": {
    "collapsed": false,
    "pycharm": {
     "name": "#%%\n"
    }
   }
  },
  {
   "cell_type": "code",
   "execution_count": 72,
   "outputs": [],
   "source": [
    "df = df[df['Crop_Damage']=='Minimal Damage']\n",
    "dropper = ['ID','Crop_Damage', 'Number_Doses_Week', 'Number_Weeks_Used', 'Number_Weeks_Quit']\n",
    "df.drop(dropper, axis=1, inplace=True)"
   ],
   "metadata": {
    "collapsed": false,
    "pycharm": {
     "name": "#%%\n"
    }
   }
  },
  {
   "cell_type": "code",
   "execution_count": 73,
   "outputs": [],
   "source": [
    "for col in ['Crop_Type', 'Soil_Type', 'Pesticide_Use_Category', 'Season']:\n",
    "    df[col] = labelencoder.fit_transform(df[col])"
   ],
   "metadata": {
    "collapsed": false,
    "pycharm": {
     "name": "#%%\n"
    }
   }
  },
  {
   "cell_type": "code",
   "execution_count": 74,
   "outputs": [],
   "source": [
    "from lightgbm import LGBMClassifier as lc\n",
    "\n",
    "lcc = lc(bagging_fraction=1.0, bagging_freq=6, boosting_type='gbdt',\n",
    "               class_weight=None, colsample_bytree=1.0, feature_fraction=0.8,\n",
    "               importance_type='split', learning_rate=0.3, max_depth=-1,\n",
    "               min_child_samples=56, min_child_weight=0.001, min_split_gain=0.9,\n",
    "               n_estimators=210, n_jobs=-1, num_leaves=40, objective=None,\n",
    "               random_state=7880, reg_alpha=1e-07, reg_lambda=3, silent=True,\n",
    "               subsample=1.0, subsample_for_bin=200000, subsample_freq=0)"
   ],
   "metadata": {
    "collapsed": false,
    "pycharm": {
     "name": "#%%\n"
    }
   }
  },
  {
   "cell_type": "code",
   "execution_count": 75,
   "outputs": [
    {
     "data": {
      "text/plain": "LGBMClassifier(bagging_fraction=1.0, bagging_freq=6, feature_fraction=0.8,\n               learning_rate=0.3, min_child_samples=56, min_split_gain=0.9,\n               n_estimators=210, num_leaves=40, random_state=7880,\n               reg_alpha=1e-07, reg_lambda=3)"
     },
     "execution_count": 75,
     "metadata": {},
     "output_type": "execute_result"
    }
   ],
   "source": [
    "lcc.fit(df.drop(['Pesticide_Use_Category'], axis=1),\n",
    "       df['Pesticide_Use_Category'])"
   ],
   "metadata": {
    "collapsed": false,
    "pycharm": {
     "name": "#%%\n"
    }
   }
  },
  {
   "cell_type": "code",
   "execution_count": 76,
   "outputs": [],
   "source": [
    "import pickle"
   ],
   "metadata": {
    "collapsed": false,
    "pycharm": {
     "name": "#%%\n"
    }
   }
  },
  {
   "cell_type": "code",
   "execution_count": 77,
   "outputs": [],
   "source": [
    "filename = 'lightgbm_pest_model.pkl'\n",
    "pickle.dump(lcc, open(filename, 'wb'))"
   ],
   "metadata": {
    "collapsed": false,
    "pycharm": {
     "name": "#%%\n"
    }
   }
  }
 ],
 "metadata": {
  "kernelspec": {
   "display_name": "Python 3",
   "language": "python",
   "name": "python3"
  },
  "language_info": {
   "codemirror_mode": {
    "name": "ipython",
    "version": 2
   },
   "file_extension": ".py",
   "mimetype": "text/x-python",
   "name": "python",
   "nbconvert_exporter": "python",
   "pygments_lexer": "ipython2",
   "version": "2.7.6"
  }
 },
 "nbformat": 4,
 "nbformat_minor": 0
}