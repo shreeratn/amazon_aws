{
 "cells": [
  {
   "cell_type": "markdown",
   "metadata": {},
   "source": [
    "# Current Location"
   ]
  },
  {
   "cell_type": "code",
   "execution_count": 2,
   "metadata": {},
   "outputs": [
    {
     "name": "stdout",
     "output_type": "stream",
     "text": [
      "Requirement already satisfied: geopy in c:\\users\\lenovo\\anaconda3\\lib\\site-packages (2.2.0)\n",
      "Requirement already satisfied: geographiclib<2,>=1.49 in c:\\users\\lenovo\\anaconda3\\lib\\site-packages (from geopy) (1.52)\n"
     ]
    }
   ],
   "source": [
    "!pip install geopy"
   ]
  },
  {
   "cell_type": "markdown",
   "metadata": {},
   "source": [
    "# Weather Data"
   ]
  },
  {
   "cell_type": "code",
   "execution_count": 3,
   "metadata": {},
   "outputs": [
    {
     "name": "stdout",
     "output_type": "stream",
     "text": [
      "Requirement already satisfied: pyowm in c:\\users\\lenovo\\anaconda3\\lib\\site-packages (3.0.0)\n",
      "Requirement already satisfied: geojson<3,>=2.3.0 in c:\\users\\lenovo\\anaconda3\\lib\\site-packages (from pyowm) (2.5.0)\n",
      "Requirement already satisfied: requests<3,>=2.20.0 in c:\\users\\lenovo\\anaconda3\\lib\\site-packages (from pyowm) (2.24.0)\n",
      "Requirement already satisfied: PySocks<2,==1.7.1 in c:\\users\\lenovo\\anaconda3\\lib\\site-packages (from pyowm) (1.7.1)\n",
      "Requirement already satisfied: chardet<4,>=3.0.2 in c:\\users\\lenovo\\anaconda3\\lib\\site-packages (from requests<3,>=2.20.0->pyowm) (3.0.4)\n",
      "Requirement already satisfied: idna<3,>=2.5 in c:\\users\\lenovo\\anaconda3\\lib\\site-packages (from requests<3,>=2.20.0->pyowm) (2.8)\n",
      "Requirement already satisfied: urllib3!=1.25.0,!=1.25.1,<1.26,>=1.21.1 in c:\\users\\lenovo\\anaconda3\\lib\\site-packages (from requests<3,>=2.20.0->pyowm) (1.25.8)\n",
      "Requirement already satisfied: certifi>=2017.4.17 in c:\\users\\lenovo\\anaconda3\\lib\\site-packages (from requests<3,>=2.20.0->pyowm) (2019.11.28)\n"
     ]
    }
   ],
   "source": [
    "!pip install pyowm"
   ]
  },
  {
   "cell_type": "code",
   "execution_count": 62,
   "metadata": {},
   "outputs": [],
   "source": [
    "import pyowm\n",
    "from datetime import datetime"
   ]
  },
  {
   "cell_type": "code",
   "execution_count": 63,
   "metadata": {},
   "outputs": [],
   "source": [
    "APIKEY='685ba6ad24a69967df5e90ea8f9fb7f3'                 \n",
    "\n",
    "owm = pyowm.OWM(APIKEY)\n",
    "mgr = owm.weather_manager()\n",
    "obs = mgr.weather_at_place('Varanasi')"
   ]
  },
  {
   "cell_type": "code",
   "execution_count": 64,
   "metadata": {},
   "outputs": [],
   "source": [
    "def ts_to_date(x):\n",
    "    \n",
    "    return datetime.fromtimestamp(x)\n",
    "\n",
    "humidity = obs.weather.humidity\n",
    "wind = obs.weather.wnd\n",
    "status = obs.weather.status\n",
    "temp = obs.weather.temp\n",
    "sri = ts_to_date(obs.weather.srise_time)\n",
    "sse = ts_to_date(obs.weather.sset_time)"
   ]
  },
  {
   "cell_type": "code",
   "execution_count": 65,
   "metadata": {},
   "outputs": [
    {
     "name": "stdout",
     "output_type": "stream",
     "text": [
      "62 \n",
      " {'temp': 307.2, 'temp_kf': None, 'temp_max': 307.2, 'temp_min': 307.2, 'feels_like': 314.2} \n",
      " Haze \n",
      " {'temp': 307.2, 'temp_kf': None, 'temp_max': 307.2, 'temp_min': 307.2, 'feels_like': 314.2} \n",
      " 2021-08-21 05:34:14 \n",
      " 2021-08-21 18:28:30\n"
     ]
    }
   ],
   "source": [
    "print(humidity,'\\n',temp,'\\n',clouds,'\\n',temp,'\\n',sri,'\\n',sse)"
   ]
  }
 ],
 "metadata": {
  "kernelspec": {
   "display_name": "Python 3",
   "language": "python",
   "name": "python3"
  },
  "language_info": {
   "codemirror_mode": {
    "name": "ipython",
    "version": 3
   },
   "file_extension": ".py",
   "mimetype": "text/x-python",
   "name": "python",
   "nbconvert_exporter": "python",
   "pygments_lexer": "ipython3",
   "version": "3.7.6"
  }
 },
 "nbformat": 4,
 "nbformat_minor": 4
}
