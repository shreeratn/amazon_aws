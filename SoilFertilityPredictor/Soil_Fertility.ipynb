{
 "cells": [
  {
   "cell_type": "code",
   "execution_count": 1,
   "metadata": {},
   "outputs": [],
   "source": [
    "import pandas as pd\n",
    "import numpy as np\n",
    "import matplotlib.pyplot as plt\n",
    "import seaborn as sns\n",
    "from sklearn.metrics import classification_report\n",
    "from sklearn import metrics\n",
    "from sklearn import tree"
   ]
  },
  {
   "cell_type": "code",
   "execution_count": 2,
   "metadata": {},
   "outputs": [],
   "source": [
    "data = pd.read_csv('C:/Users/Lenovo/Desktop/soil_fer.csv')"
   ]
  },
  {
   "cell_type": "code",
   "execution_count": 3,
   "metadata": {},
   "outputs": [
    {
     "data": {
      "text/html": [
       "<div>\n",
       "<style scoped>\n",
       "    .dataframe tbody tr th:only-of-type {\n",
       "        vertical-align: middle;\n",
       "    }\n",
       "\n",
       "    .dataframe tbody tr th {\n",
       "        vertical-align: top;\n",
       "    }\n",
       "\n",
       "    .dataframe thead th {\n",
       "        text-align: right;\n",
       "    }\n",
       "</style>\n",
       "<table border=\"1\" class=\"dataframe\">\n",
       "  <thead>\n",
       "    <tr style=\"text-align: right;\">\n",
       "      <th></th>\n",
       "      <th>pH</th>\n",
       "      <th>EC</th>\n",
       "      <th>OC</th>\n",
       "      <th>OM</th>\n",
       "      <th>N</th>\n",
       "      <th>P</th>\n",
       "      <th>K</th>\n",
       "      <th>Zn</th>\n",
       "      <th>Fe</th>\n",
       "      <th>Cu</th>\n",
       "      <th>Mn</th>\n",
       "      <th>Sand</th>\n",
       "      <th>Silt</th>\n",
       "      <th>Clay</th>\n",
       "      <th>CaCO3</th>\n",
       "      <th>CEC</th>\n",
       "      <th>Output</th>\n",
       "    </tr>\n",
       "  </thead>\n",
       "  <tbody>\n",
       "    <tr>\n",
       "      <th>0</th>\n",
       "      <td>7.74</td>\n",
       "      <td>0.40</td>\n",
       "      <td>0.01</td>\n",
       "      <td>0.01</td>\n",
       "      <td>75</td>\n",
       "      <td>20.0</td>\n",
       "      <td>279</td>\n",
       "      <td>0.48</td>\n",
       "      <td>6.4</td>\n",
       "      <td>0.21</td>\n",
       "      <td>4.7</td>\n",
       "      <td>84.3</td>\n",
       "      <td>6.8</td>\n",
       "      <td>8.9</td>\n",
       "      <td>6.72</td>\n",
       "      <td>7.81</td>\n",
       "      <td>Fertile</td>\n",
       "    </tr>\n",
       "    <tr>\n",
       "      <th>1</th>\n",
       "      <td>9.02</td>\n",
       "      <td>0.31</td>\n",
       "      <td>0.02</td>\n",
       "      <td>0.03</td>\n",
       "      <td>85</td>\n",
       "      <td>15.7</td>\n",
       "      <td>247</td>\n",
       "      <td>0.27</td>\n",
       "      <td>6.4</td>\n",
       "      <td>0.16</td>\n",
       "      <td>5.6</td>\n",
       "      <td>90.4</td>\n",
       "      <td>3.9</td>\n",
       "      <td>5.7</td>\n",
       "      <td>4.61</td>\n",
       "      <td>7.19</td>\n",
       "      <td>Fertile</td>\n",
       "    </tr>\n",
       "    <tr>\n",
       "      <th>2</th>\n",
       "      <td>7.80</td>\n",
       "      <td>0.17</td>\n",
       "      <td>0.02</td>\n",
       "      <td>0.03</td>\n",
       "      <td>77</td>\n",
       "      <td>35.6</td>\n",
       "      <td>265</td>\n",
       "      <td>0.46</td>\n",
       "      <td>6.2</td>\n",
       "      <td>0.51</td>\n",
       "      <td>6.1</td>\n",
       "      <td>84.5</td>\n",
       "      <td>6.9</td>\n",
       "      <td>8.6</td>\n",
       "      <td>1.53</td>\n",
       "      <td>12.32</td>\n",
       "      <td>Fertile</td>\n",
       "    </tr>\n",
       "    <tr>\n",
       "      <th>3</th>\n",
       "      <td>8.36</td>\n",
       "      <td>0.02</td>\n",
       "      <td>0.03</td>\n",
       "      <td>0.05</td>\n",
       "      <td>106</td>\n",
       "      <td>6.4</td>\n",
       "      <td>127</td>\n",
       "      <td>0.50</td>\n",
       "      <td>3.1</td>\n",
       "      <td>0.28</td>\n",
       "      <td>2.3</td>\n",
       "      <td>93.9</td>\n",
       "      <td>1.7</td>\n",
       "      <td>4.4</td>\n",
       "      <td>0.00</td>\n",
       "      <td>1.60</td>\n",
       "      <td>Non Fertile</td>\n",
       "    </tr>\n",
       "    <tr>\n",
       "      <th>4</th>\n",
       "      <td>8.36</td>\n",
       "      <td>1.08</td>\n",
       "      <td>0.03</td>\n",
       "      <td>0.05</td>\n",
       "      <td>96</td>\n",
       "      <td>10.5</td>\n",
       "      <td>96</td>\n",
       "      <td>0.31</td>\n",
       "      <td>3.2</td>\n",
       "      <td>0.23</td>\n",
       "      <td>4.1</td>\n",
       "      <td>91.5</td>\n",
       "      <td>4.1</td>\n",
       "      <td>4.4</td>\n",
       "      <td>9.08</td>\n",
       "      <td>7.21</td>\n",
       "      <td>Non Fertile</td>\n",
       "    </tr>\n",
       "  </tbody>\n",
       "</table>\n",
       "</div>"
      ],
      "text/plain": [
       "     pH    EC    OC    OM    N     P    K    Zn   Fe    Cu   Mn  Sand  Silt  \\\n",
       "0  7.74  0.40  0.01  0.01   75  20.0  279  0.48  6.4  0.21  4.7  84.3   6.8   \n",
       "1  9.02  0.31  0.02  0.03   85  15.7  247  0.27  6.4  0.16  5.6  90.4   3.9   \n",
       "2  7.80  0.17  0.02  0.03   77  35.6  265  0.46  6.2  0.51  6.1  84.5   6.9   \n",
       "3  8.36  0.02  0.03  0.05  106   6.4  127  0.50  3.1  0.28  2.3  93.9   1.7   \n",
       "4  8.36  1.08  0.03  0.05   96  10.5   96  0.31  3.2  0.23  4.1  91.5   4.1   \n",
       "\n",
       "   Clay  CaCO3    CEC       Output  \n",
       "0   8.9   6.72   7.81      Fertile  \n",
       "1   5.7   4.61   7.19      Fertile  \n",
       "2   8.6   1.53  12.32      Fertile  \n",
       "3   4.4   0.00   1.60  Non Fertile  \n",
       "4   4.4   9.08   7.21  Non Fertile  "
      ]
     },
     "execution_count": 3,
     "metadata": {},
     "output_type": "execute_result"
    }
   ],
   "source": [
    "data.head()"
   ]
  },
  {
   "cell_type": "code",
   "execution_count": 4,
   "metadata": {},
   "outputs": [],
   "source": [
    "x = data.drop(\"Output\",axis=1)\n",
    "y = data[\"Output\"]\n",
    "\n",
    "from sklearn.model_selection import train_test_split\n",
    "Xtrain, Xtest, Ytrain, Ytest = train_test_split(x,y,test_size = 0.2,random_state =0)"
   ]
  },
  {
   "cell_type": "code",
   "execution_count": 10,
   "metadata": {},
   "outputs": [
    {
     "name": "stdout",
     "output_type": "stream",
     "text": [
      "RandomForestClassifier(max_depth=5, n_estimators=20)\n",
      "0.9\n",
      "              precision    recall  f1-score   support\n",
      "\n",
      "     Fertile       1.00      0.83      0.91        12\n",
      " Non Fertile       0.80      1.00      0.89         8\n",
      "\n",
      "    accuracy                           0.90        20\n",
      "   macro avg       0.90      0.92      0.90        20\n",
      "weighted avg       0.92      0.90      0.90        20\n",
      "\n"
     ]
    }
   ],
   "source": [
    "from xgboost import XGBClassifier\n",
    "from sklearn.ensemble import RandomForestClassifier\n",
    "clf = RandomForestClassifier(n_estimators=20,max_depth=5)\n",
    "print(clf)\n",
    "clf.fit(Xtrain,Ytrain)\n",
    "\n",
    "predicted_values = clf.predict(Xtest)\n",
    "\n",
    "x = metrics.accuracy_score(Ytest, predicted_values)\n",
    "\n",
    "print(x)\n",
    "\n",
    "print(classification_report(Ytest,predicted_values))"
   ]
  },
  {
   "cell_type": "code",
   "execution_count": 11,
   "metadata": {},
   "outputs": [],
   "source": [
    "import pickle\n",
    "pickle.dump(clf, open('C:/Users/Lenovo/Desktop/soil_fertility.pkl','wb'))"
   ]
  },
  {
   "cell_type": "code",
   "execution_count": 13,
   "metadata": {},
   "outputs": [
    {
     "name": "stdout",
     "output_type": "stream",
     "text": [
      "['Fertile']\n"
     ]
    }
   ],
   "source": [
    "model = pickle.load(open('C:/Users/Lenovo/Desktop/soil_fertility.pkl','rb'))\n",
    "print(model.predict([[6.4,0.20,0.01,0.01,35.0,10.0,279,0.48,6.4,0.21,4.7,84.3,6.8,8.9,6.72,7.81]]))"
   ]
  }
 ],
 "metadata": {
  "kernelspec": {
   "display_name": "Python 3",
   "language": "python",
   "name": "python3"
  },
  "language_info": {
   "codemirror_mode": {
    "name": "ipython",
    "version": 3
   },
   "file_extension": ".py",
   "mimetype": "text/x-python",
   "name": "python",
   "nbconvert_exporter": "python",
   "pygments_lexer": "ipython3",
   "version": "3.7.6"
  }
 },
 "nbformat": 4,
 "nbformat_minor": 4
}
