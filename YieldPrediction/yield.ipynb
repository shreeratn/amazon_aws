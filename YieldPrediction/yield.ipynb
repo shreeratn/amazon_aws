{
 "cells": [
  {
   "cell_type": "code",
   "execution_count": 36,
   "metadata": {
    "collapsed": true
   },
   "outputs": [],
   "source": [
    "import numpy as np\n",
    "import pandas as pd\n",
    "from sklearn.preprocessing import LabelEncoder\n",
    "\n",
    "labelencoder = LabelEncoder()"
   ]
  },
  {
   "cell_type": "code",
   "execution_count": 37,
   "outputs": [],
   "source": [
    "df = pd.read_csv('../YieldPrediction/dataset/AgrcultureDataset.csv')"
   ],
   "metadata": {
    "collapsed": false,
    "pycharm": {
     "name": "#%%\n"
    }
   }
  },
  {
   "cell_type": "code",
   "execution_count": 51,
   "outputs": [
    {
     "data": {
      "text/plain": "   State_Name  District_Name  Season  Crop  Area  Production\n0           0            427       1     2  1592      2000.0\n1           0            427       1    74     7         1.0\n2           0            427       1    95   226       321.0\n3           0            427       4     7   335       641.0\n4           0            427       4    22  1010       165.0",
      "text/html": "<div>\n<style scoped>\n    .dataframe tbody tr th:only-of-type {\n        vertical-align: middle;\n    }\n\n    .dataframe tbody tr th {\n        vertical-align: top;\n    }\n\n    .dataframe thead th {\n        text-align: right;\n    }\n</style>\n<table border=\"1\" class=\"dataframe\">\n  <thead>\n    <tr style=\"text-align: right;\">\n      <th></th>\n      <th>State_Name</th>\n      <th>District_Name</th>\n      <th>Season</th>\n      <th>Crop</th>\n      <th>Area</th>\n      <th>Production</th>\n    </tr>\n  </thead>\n  <tbody>\n    <tr>\n      <th>0</th>\n      <td>0</td>\n      <td>427</td>\n      <td>1</td>\n      <td>2</td>\n      <td>1592</td>\n      <td>2000.0</td>\n    </tr>\n    <tr>\n      <th>1</th>\n      <td>0</td>\n      <td>427</td>\n      <td>1</td>\n      <td>74</td>\n      <td>7</td>\n      <td>1.0</td>\n    </tr>\n    <tr>\n      <th>2</th>\n      <td>0</td>\n      <td>427</td>\n      <td>1</td>\n      <td>95</td>\n      <td>226</td>\n      <td>321.0</td>\n    </tr>\n    <tr>\n      <th>3</th>\n      <td>0</td>\n      <td>427</td>\n      <td>4</td>\n      <td>7</td>\n      <td>335</td>\n      <td>641.0</td>\n    </tr>\n    <tr>\n      <th>4</th>\n      <td>0</td>\n      <td>427</td>\n      <td>4</td>\n      <td>22</td>\n      <td>1010</td>\n      <td>165.0</td>\n    </tr>\n  </tbody>\n</table>\n</div>"
     },
     "execution_count": 51,
     "metadata": {},
     "output_type": "execute_result"
    }
   ],
   "source": [
    "df.head()"
   ],
   "metadata": {
    "collapsed": false,
    "pycharm": {
     "name": "#%%\n"
    }
   }
  },
  {
   "cell_type": "code",
   "execution_count": 39,
   "outputs": [
    {
     "data": {
      "text/plain": "State_Name       0\nDistrict_Name    0\nCrop_Year        0\nSeason           0\nCrop             0\nArea             0\nProduction       0\ndtype: int64"
     },
     "execution_count": 39,
     "metadata": {},
     "output_type": "execute_result"
    }
   ],
   "source": [
    "df.isna().sum()"
   ],
   "metadata": {
    "collapsed": false,
    "pycharm": {
     "name": "#%%\n"
    }
   }
  },
  {
   "cell_type": "code",
   "execution_count": 40,
   "outputs": [],
   "source": [
    "df.drop('Crop_Year', axis=1, inplace=True)"
   ],
   "metadata": {
    "collapsed": false,
    "pycharm": {
     "name": "#%%\n"
    }
   }
  },
  {
   "cell_type": "code",
   "execution_count": 41,
   "outputs": [],
   "source": [
    "import re\n",
    "\n",
    "\n",
    "def prod(row):\n",
    "    if re.search('^[0-9]+$', row):\n",
    "        return float(row)\n",
    "    else:\n",
    "        return np.NAN"
   ],
   "metadata": {
    "collapsed": false,
    "pycharm": {
     "name": "#%%\n"
    }
   }
  },
  {
   "cell_type": "code",
   "execution_count": 42,
   "outputs": [],
   "source": [
    "df.Production = df.Production.apply(prod)\n",
    "df.dropna(inplace=True)"
   ],
   "metadata": {
    "collapsed": false,
    "pycharm": {
     "name": "#%%\n"
    }
   }
  },
  {
   "cell_type": "markdown",
   "source": [
    "## for mapping the attributes"
   ],
   "metadata": {
    "collapsed": false,
    "pycharm": {
     "name": "#%% md\n"
    }
   }
  },
  {
   "cell_type": "code",
   "execution_count": 43,
   "outputs": [
    {
     "name": "stdout",
     "output_type": "stream",
     "text": [
      "<class 'pandas.core.frame.DataFrame'>\n",
      "Int64Index: 233498 entries, 0 to 246090\n",
      "Data columns (total 6 columns):\n",
      " #   Column         Non-Null Count   Dtype  \n",
      "---  ------         --------------   -----  \n",
      " 0   State_Name     233498 non-null  object \n",
      " 1   District_Name  233498 non-null  object \n",
      " 2   Season         233498 non-null  object \n",
      " 3   Crop           233498 non-null  object \n",
      " 4   Area           233498 non-null  float64\n",
      " 5   Production     233498 non-null  float64\n",
      "dtypes: float64(2), object(4)\n",
      "memory usage: 12.5+ MB\n"
     ]
    }
   ],
   "source": [
    "df.info()"
   ],
   "metadata": {
    "collapsed": false,
    "pycharm": {
     "name": "#%%\n"
    }
   }
  },
  {
   "cell_type": "code",
   "execution_count": 44,
   "outputs": [
    {
     "name": "stdout",
     "output_type": "stream",
     "text": [
      "{'Andaman and Nicobar Islands': 0, 'Andhra Pradesh': 1, 'Arunachal Pradesh': 2, 'Assam': 3, 'Bihar': 4, 'Chandigarh': 5, 'Chhattisgarh': 6, 'Dadra and Nagar Haveli': 7, 'Goa': 8, 'Gujarat': 9, 'Haryana': 10, 'Himachal Pradesh': 11, 'Jammu and Kashmir ': 12, 'Jharkhand': 13, 'Karnataka': 14, 'Kerala': 15, 'Madhya Pradesh': 16, 'Maharashtra': 17, 'Manipur': 18, 'Meghalaya': 19, 'Mizoram': 20, 'Nagaland': 21, 'Odisha': 22, 'Puducherry': 23, 'Punjab': 24, 'Rajasthan': 25, 'Sikkim': 26, 'Tamil Nadu': 27, 'Telangana ': 28, 'Tripura': 29, 'Uttar Pradesh': 30, 'Uttarakhand': 31, 'West Bengal': 32}\n",
      "{'NICOBARS': 0, 'NORTH AND MIDDLE ANDAMAN': 1, 'SOUTH ANDAMANS': 2, 'ANANTAPUR': 3, 'CHITTOOR': 4, 'EAST GODAVARI': 5, 'GUNTUR': 6, 'KADAPA': 7, 'KRISHNA': 8, 'KURNOOL': 9, 'PRAKASAM': 10, 'SPSR NELLORE': 11, 'SRIKAKULAM': 12, 'VISAKHAPATANAM': 13, 'VIZIANAGARAM': 14, 'WEST GODAVARI': 15, 'ANJAW': 16, 'CHANGLANG': 17, 'DIBANG VALLEY': 18, 'EAST KAMENG': 19, 'EAST SIANG': 20, 'KURUNG KUMEY': 21, 'LOHIT': 22, 'LONGDING': 23, 'LOWER DIBANG VALLEY': 24, 'LOWER SUBANSIRI': 25, 'NAMSAI': 26, 'PAPUM PARE': 27, 'TAWANG': 28, 'TIRAP': 29, 'UPPER SIANG': 30, 'UPPER SUBANSIRI': 31, 'WEST KAMENG': 32, 'WEST SIANG': 33, 'BAKSA': 34, 'BARPETA': 35, 'BONGAIGAON': 36, 'CACHAR': 37, 'CHIRANG': 38, 'DARRANG': 39, 'DHEMAJI': 40, 'DHUBRI': 41, 'DIBRUGARH': 42, 'DIMA HASAO': 43, 'GOALPARA': 44, 'GOLAGHAT': 45, 'HAILAKANDI': 46, 'JORHAT': 47, 'KAMRUP': 48, 'KAMRUP METRO': 49, 'KARBI ANGLONG': 50, 'KARIMGANJ': 51, 'KOKRAJHAR': 52, 'LAKHIMPUR': 53, 'MARIGAON': 54, 'NAGAON': 55, 'NALBARI': 56, 'SIVASAGAR': 57, 'SONITPUR': 58, 'TINSUKIA': 59, 'UDALGURI': 60, 'ARARIA': 61, 'ARWAL': 62, 'AURANGABAD': 63, 'BANKA': 64, 'BEGUSARAI': 65, 'BHAGALPUR': 66, 'BHOJPUR': 67, 'BUXAR': 68, 'DARBHANGA': 69, 'GAYA': 70, 'GOPALGANJ': 71, 'JAMUI': 72, 'JEHANABAD': 73, 'KAIMUR (BHABUA)': 74, 'KATIHAR': 75, 'KHAGARIA': 76, 'KISHANGANJ': 77, 'LAKHISARAI': 78, 'MADHEPURA': 79, 'MADHUBANI': 80, 'MUNGER': 81, 'MUZAFFARPUR': 82, 'NALANDA': 83, 'NAWADA': 84, 'PASHCHIM CHAMPARAN': 85, 'PATNA': 86, 'PURBI CHAMPARAN': 87, 'PURNIA': 88, 'ROHTAS': 89, 'SAHARSA': 90, 'SAMASTIPUR': 91, 'SARAN': 92, 'SHEIKHPURA': 93, 'SHEOHAR': 94, 'SITAMARHI': 95, 'SIWAN': 96, 'SUPAUL': 97, 'VAISHALI': 98, 'CHANDIGARH': 99, 'BALOD': 100, 'BALODA BAZAR': 101, 'BALRAMPUR': 102, 'BASTAR': 103, 'BEMETARA': 104, 'BIJAPUR': 105, 'BILASPUR': 106, 'DANTEWADA': 107, 'DHAMTARI': 108, 'DURG': 109, 'GARIYABAND': 110, 'JANJGIR-CHAMPA': 111, 'JASHPUR': 112, 'KABIRDHAM': 113, 'KANKER': 114, 'KONDAGAON': 115, 'KORBA': 116, 'KOREA': 117, 'MAHASAMUND': 118, 'MUNGELI': 119, 'NARAYANPUR': 120, 'RAIGARH': 121, 'RAIPUR': 122, 'RAJNANDGAON': 123, 'SUKMA': 124, 'SURAJPUR': 125, 'SURGUJA': 126, 'DADRA AND NAGAR HAVELI': 127, 'NORTH GOA': 128, 'SOUTH GOA': 129, 'AHMADABAD': 130, 'AMRELI': 131, 'ANAND': 132, 'BANAS KANTHA': 133, 'BHARUCH': 134, 'BHAVNAGAR': 135, 'DANG': 136, 'DOHAD': 137, 'GANDHINAGAR': 138, 'JAMNAGAR': 139, 'JUNAGADH': 140, 'KACHCHH': 141, 'KHEDA': 142, 'MAHESANA': 143, 'NARMADA': 144, 'NAVSARI': 145, 'PANCH MAHALS': 146, 'PATAN': 147, 'PORBANDAR': 148, 'RAJKOT': 149, 'SABAR KANTHA': 150, 'SURAT': 151, 'SURENDRANAGAR': 152, 'TAPI': 153, 'VADODARA': 154, 'VALSAD': 155, 'AMBALA': 156, 'BHIWANI': 157, 'FARIDABAD': 158, 'FATEHABAD': 159, 'GURGAON': 160, 'HISAR': 161, 'JHAJJAR': 162, 'JIND': 163, 'KAITHAL': 164, 'KARNAL': 165, 'KURUKSHETRA': 166, 'MAHENDRAGARH': 167, 'MEWAT': 168, 'PALWAL': 169, 'PANCHKULA': 170, 'PANIPAT': 171, 'REWARI': 172, 'ROHTAK': 173, 'SIRSA': 174, 'SONIPAT': 175, 'YAMUNANAGAR': 176, 'CHAMBA': 177, 'HAMIRPUR': 178, 'KANGRA': 179, 'KINNAUR': 180, 'KULLU': 181, 'LAHUL AND SPITI': 182, 'MANDI': 183, 'SHIMLA': 184, 'SIRMAUR': 185, 'SOLAN': 186, 'UNA': 187, 'ANANTNAG': 188, 'BADGAM': 189, 'BANDIPORA': 190, 'BARAMULLA': 191, 'DODA': 192, 'GANDERBAL': 193, 'JAMMU': 194, 'KARGIL': 195, 'KATHUA': 196, 'KISHTWAR': 197, 'KULGAM': 198, 'KUPWARA': 199, 'LEH LADAKH': 200, 'POONCH': 201, 'PULWAMA': 202, 'RAJAURI': 203, 'RAMBAN': 204, 'REASI': 205, 'SAMBA': 206, 'SHOPIAN': 207, 'SRINAGAR': 208, 'UDHAMPUR': 209, 'BOKARO': 210, 'CHATRA': 211, 'DEOGHAR': 212, 'DHANBAD': 213, 'DUMKA': 214, 'EAST SINGHBUM': 215, 'GARHWA': 216, 'GIRIDIH': 217, 'GODDA': 218, 'GUMLA': 219, 'HAZARIBAGH': 220, 'JAMTARA': 221, 'KHUNTI': 222, 'KODERMA': 223, 'LATEHAR': 224, 'LOHARDAGA': 225, 'PAKUR': 226, 'PALAMU': 227, 'RAMGARH': 228, 'RANCHI': 229, 'SAHEBGANJ': 230, 'SARAIKELA KHARSAWAN': 231, 'SIMDEGA': 232, 'WEST SINGHBHUM': 233, 'BAGALKOT': 234, 'BANGALORE RURAL': 235, 'BELGAUM': 236, 'BELLARY': 237, 'BENGALURU URBAN': 238, 'BIDAR': 239, 'CHAMARAJANAGAR': 240, 'CHIKBALLAPUR': 241, 'CHIKMAGALUR': 242, 'CHITRADURGA': 243, 'DAKSHIN KANNAD': 244, 'DAVANGERE': 245, 'DHARWAD': 246, 'GADAG': 247, 'GULBARGA': 248, 'HASSAN': 249, 'HAVERI': 250, 'KODAGU': 251, 'KOLAR': 252, 'KOPPAL': 253, 'MANDYA': 254, 'MYSORE': 255, 'RAICHUR': 256, 'RAMANAGARA': 257, 'SHIMOGA': 258, 'TUMKUR': 259, 'UDUPI': 260, 'UTTAR KANNAD': 261, 'YADGIR': 262, 'ALAPPUZHA': 263, 'ERNAKULAM': 264, 'IDUKKI': 265, 'KANNUR': 266, 'KASARAGOD': 267, 'KOLLAM': 268, 'KOTTAYAM': 269, 'KOZHIKODE': 270, 'MALAPPURAM': 271, 'PALAKKAD': 272, 'PATHANAMTHITTA': 273, 'THIRUVANANTHAPURAM': 274, 'THRISSUR': 275, 'WAYANAD': 276, 'AGAR MALWA': 277, 'ALIRAJPUR': 278, 'ANUPPUR': 279, 'ASHOKNAGAR': 280, 'BALAGHAT': 281, 'BARWANI': 282, 'BETUL': 283, 'BHIND': 284, 'BHOPAL': 285, 'BURHANPUR': 286, 'CHHATARPUR': 287, 'CHHINDWARA': 288, 'DAMOH': 289, 'DATIA': 290, 'DEWAS': 291, 'DHAR': 292, 'DINDORI': 293, 'GUNA': 294, 'GWALIOR': 295, 'HARDA': 296, 'HOSHANGABAD': 297, 'INDORE': 298, 'JABALPUR': 299, 'JHABUA': 300, 'KATNI': 301, 'KHANDWA': 302, 'KHARGONE': 303, 'MANDLA': 304, 'MANDSAUR': 305, 'MORENA': 306, 'NARSINGHPUR': 307, 'NEEMUCH': 308, 'PANNA': 309, 'RAISEN': 310, 'RAJGARH': 311, 'RATLAM': 312, 'REWA': 313, 'SAGAR': 314, 'SATNA': 315, 'SEHORE': 316, 'SEONI': 317, 'SHAHDOL': 318, 'SHAJAPUR': 319, 'SHEOPUR': 320, 'SHIVPURI': 321, 'SIDHI': 322, 'SINGRAULI': 323, 'TIKAMGARH': 324, 'UJJAIN': 325, 'UMARIA': 326, 'VIDISHA': 327, 'AHMEDNAGAR': 328, 'AKOLA': 329, 'AMRAVATI': 330, 'BEED': 331, 'BHANDARA': 332, 'BULDHANA': 333, 'CHANDRAPUR': 334, 'DHULE': 335, 'GADCHIROLI': 336, 'GONDIA': 337, 'HINGOLI': 338, 'JALGAON': 339, 'JALNA': 340, 'KOLHAPUR': 341, 'LATUR': 342, 'MUMBAI': 343, 'NAGPUR': 344, 'NANDED': 345, 'NANDURBAR': 346, 'NASHIK': 347, 'OSMANABAD': 348, 'PALGHAR': 349, 'PARBHANI': 350, 'PUNE': 351, 'RAIGAD': 352, 'RATNAGIRI': 353, 'SANGLI': 354, 'SATARA': 355, 'SINDHUDURG': 356, 'SOLAPUR': 357, 'THANE': 358, 'WARDHA': 359, 'WASHIM': 360, 'YAVATMAL': 361, 'BISHNUPUR': 362, 'CHANDEL': 363, 'CHURACHANDPUR': 364, 'IMPHAL EAST': 365, 'IMPHAL WEST': 366, 'SENAPATI': 367, 'TAMENGLONG': 368, 'THOUBAL': 369, 'UKHRUL': 370, 'EAST GARO HILLS': 371, 'EAST JAINTIA HILLS': 372, 'EAST KHASI HILLS': 373, 'NORTH GARO HILLS': 374, 'RI BHOI': 375, 'SOUTH GARO HILLS': 376, 'SOUTH WEST GARO HILLS': 377, 'SOUTH WEST KHASI HILLS': 378, 'WEST GARO HILLS': 379, 'WEST JAINTIA HILLS': 380, 'WEST KHASI HILLS': 381, 'AIZAWL': 382, 'CHAMPHAI': 383, 'KOLASIB': 384, 'LAWNGTLAI': 385, 'LUNGLEI': 386, 'MAMIT': 387, 'SAIHA': 388, 'SERCHHIP': 389, 'DIMAPUR': 390, 'KIPHIRE': 391, 'KOHIMA': 392, 'LONGLENG': 393, 'MOKOKCHUNG': 394, 'MON': 395, 'PEREN': 396, 'PHEK': 397, 'TUENSANG': 398, 'WOKHA': 399, 'ZUNHEBOTO': 400, 'ANUGUL': 401, 'BALANGIR': 402, 'BALESHWAR': 403, 'BARGARH': 404, 'BHADRAK': 405, 'BOUDH': 406, 'CUTTACK': 407, 'DEOGARH': 408, 'DHENKANAL': 409, 'GAJAPATI': 410, 'GANJAM': 411, 'JAGATSINGHAPUR': 412, 'JAJAPUR': 413, 'JHARSUGUDA': 414, 'KALAHANDI': 415, 'KANDHAMAL': 416, 'KENDRAPARA': 417, 'KENDUJHAR': 418, 'KHORDHA': 419, 'KORAPUT': 420, 'MALKANGIRI': 421, 'MAYURBHANJ': 422, 'NABARANGPUR': 423, 'NAYAGARH': 424, 'NUAPADA': 425, 'PURI': 426, 'RAYAGADA': 427, 'SAMBALPUR': 428, 'SONEPUR': 429, 'SUNDARGARH': 430, 'KARAIKAL': 431, 'MAHE': 432, 'PONDICHERRY': 433, 'YANAM': 434, 'AMRITSAR': 435, 'BARNALA': 436, 'BATHINDA': 437, 'FARIDKOT': 438, 'FATEHGARH SAHIB': 439, 'FAZILKA': 440, 'FIROZEPUR': 441, 'GURDASPUR': 442, 'HOSHIARPUR': 443, 'JALANDHAR': 444, 'KAPURTHALA': 445, 'LUDHIANA': 446, 'MANSA': 447, 'MOGA': 448, 'MUKTSAR': 449, 'NAWANSHAHR': 450, 'PATHANKOT': 451, 'PATIALA': 452, 'RUPNAGAR': 453, 'S.A.S NAGAR': 454, 'SANGRUR': 455, 'TARN TARAN': 456, 'AJMER': 457, 'ALWAR': 458, 'BANSWARA': 459, 'BARAN': 460, 'BARMER': 461, 'BHARATPUR': 462, 'BHILWARA': 463, 'BIKANER': 464, 'BUNDI': 465, 'CHITTORGARH': 466, 'CHURU': 467, 'DAUSA': 468, 'DHOLPUR': 469, 'DUNGARPUR': 470, 'GANGANAGAR': 471, 'HANUMANGARH': 472, 'JAIPUR': 473, 'JAISALMER': 474, 'JALORE': 475, 'JHALAWAR': 476, 'JHUNJHUNU': 477, 'JODHPUR': 478, 'KARAULI': 479, 'KOTA': 480, 'NAGAUR': 481, 'PALI': 482, 'PRATAPGARH': 483, 'RAJSAMAND': 484, 'SAWAI MADHOPUR': 485, 'SIKAR': 486, 'SIROHI': 487, 'TONK': 488, 'UDAIPUR': 489, 'EAST DISTRICT': 490, 'NORTH DISTRICT': 491, 'SOUTH DISTRICT': 492, 'WEST DISTRICT': 493, 'ARIYALUR': 494, 'COIMBATORE': 495, 'CUDDALORE': 496, 'DHARMAPURI': 497, 'DINDIGUL': 498, 'ERODE': 499, 'KANCHIPURAM': 500, 'KANNIYAKUMARI': 501, 'KARUR': 502, 'KRISHNAGIRI': 503, 'MADURAI': 504, 'NAGAPATTINAM': 505, 'NAMAKKAL': 506, 'PERAMBALUR': 507, 'PUDUKKOTTAI': 508, 'RAMANATHAPURAM': 509, 'SALEM': 510, 'SIVAGANGA': 511, 'THANJAVUR': 512, 'THE NILGIRIS': 513, 'THENI': 514, 'THIRUVALLUR': 515, 'THIRUVARUR': 516, 'TIRUCHIRAPPALLI': 517, 'TIRUNELVELI': 518, 'TIRUPPUR': 519, 'TIRUVANNAMALAI': 520, 'TUTICORIN': 521, 'VELLORE': 522, 'VILLUPURAM': 523, 'VIRUDHUNAGAR': 524, 'ADILABAD': 525, 'HYDERABAD': 526, 'KARIMNAGAR': 527, 'KHAMMAM': 528, 'MAHBUBNAGAR': 529, 'MEDAK': 530, 'NALGONDA': 531, 'NIZAMABAD': 532, 'RANGAREDDI': 533, 'WARANGAL': 534, 'DHALAI': 535, 'GOMATI': 536, 'KHOWAI': 537, 'NORTH TRIPURA': 538, 'SEPAHIJALA': 539, 'SOUTH TRIPURA': 540, 'UNAKOTI': 541, 'WEST TRIPURA': 542, 'AGRA': 543, 'ALIGARH': 544, 'ALLAHABAD': 545, 'AMBEDKAR NAGAR': 546, 'AMETHI': 547, 'AMROHA': 548, 'AURAIYA': 549, 'AZAMGARH': 550, 'BAGHPAT': 551, 'BAHRAICH': 552, 'BALLIA': 553, 'BANDA': 554, 'BARABANKI': 555, 'BAREILLY': 556, 'BASTI': 557, 'BIJNOR': 558, 'BUDAUN': 559, 'BULANDSHAHR': 560, 'CHANDAULI': 561, 'CHITRAKOOT': 562, 'DEORIA': 563, 'ETAH': 564, 'ETAWAH': 565, 'FAIZABAD': 566, 'FARRUKHABAD': 567, 'FATEHPUR': 568, 'FIROZABAD': 569, 'GAUTAM BUDDHA NAGAR': 570, 'GHAZIABAD': 571, 'GHAZIPUR': 572, 'GONDA': 573, 'GORAKHPUR': 574, 'HAPUR': 575, 'HARDOI': 576, 'HATHRAS': 577, 'JALAUN': 578, 'JAUNPUR': 579, 'JHANSI': 580, 'KANNAUJ': 581, 'KANPUR DEHAT': 582, 'KANPUR NAGAR': 583, 'KASGANJ': 584, 'KAUSHAMBI': 585, 'KHERI': 586, 'KUSHI NAGAR': 587, 'LALITPUR': 588, 'LUCKNOW': 589, 'MAHARAJGANJ': 590, 'MAHOBA': 591, 'MAINPURI': 592, 'MATHURA': 593, 'MAU': 594, 'MEERUT': 595, 'MIRZAPUR': 596, 'MORADABAD': 597, 'MUZAFFARNAGAR': 598, 'PILIBHIT': 599, 'RAE BARELI': 600, 'RAMPUR': 601, 'SAHARANPUR': 602, 'SAMBHAL': 603, 'SANT KABEER NAGAR': 604, 'SANT RAVIDAS NAGAR': 605, 'SHAHJAHANPUR': 606, 'SHAMLI': 607, 'SHRAVASTI': 608, 'SIDDHARTH NAGAR': 609, 'SITAPUR': 610, 'SONBHADRA': 611, 'SULTANPUR': 612, 'UNNAO': 613, 'VARANASI': 614, 'ALMORA': 615, 'BAGESHWAR': 616, 'CHAMOLI': 617, 'CHAMPAWAT': 618, 'DEHRADUN': 619, 'HARIDWAR': 620, 'NAINITAL': 621, 'PAURI GARHWAL': 622, 'PITHORAGARH': 623, 'RUDRA PRAYAG': 624, 'TEHRI GARHWAL': 625, 'UDAM SINGH NAGAR': 626, 'UTTAR KASHI': 627, '24 PARAGANAS NORTH': 628, '24 PARAGANAS SOUTH': 629, 'BANKURA': 630, 'BARDHAMAN': 631, 'BIRBHUM': 632, 'COOCHBEHAR': 633, 'DARJEELING': 634, 'DINAJPUR DAKSHIN': 635, 'DINAJPUR UTTAR': 636, 'HOOGHLY': 637, 'HOWRAH': 638, 'JALPAIGURI': 639, 'MALDAH': 640, 'MEDINIPUR EAST': 641, 'MEDINIPUR WEST': 642, 'MURSHIDABAD': 643, 'NADIA': 644, 'PURULIA': 645}\n",
      "{'Kharif     ': 0, 'Whole Year ': 1, 'Autumn     ': 2, 'Rabi       ': 3, 'Summer     ': 4, 'Winter     ': 5}\n",
      "{'Arecanut': 0, 'Other Kharif pulses': 1, 'Rice': 2, 'Banana': 3, 'Cashewnut': 4, 'Coconut ': 5, 'Dry ginger': 6, 'Sugarcane': 7, 'Sweet potato': 8, 'Tapioca': 9, 'Dry chillies': 10, 'Turmeric': 11, 'other oilseeds': 12, 'Black pepper': 13, 'Maize': 14, 'Arhar/Tur': 15, 'Bajra': 16, 'Castor seed': 17, 'Cotton(lint)': 18, 'Groundnut': 19, 'Horse-gram': 20, 'Jowar': 21, 'Korra': 22, 'Moong(Green Gram)': 23, 'Ragi': 24, 'Sunflower': 25, 'Tobacco': 26, 'Gram': 27, 'Wheat': 28, 'Masoor': 29, 'Sesamum': 30, 'Urad': 31, 'Linseed': 32, 'Safflower': 33, 'Onion': 34, 'other misc. pulses': 35, 'Samai': 36, 'Small millets': 37, 'Coriander': 38, 'Potato': 39, 'Other  Rabi pulses': 40, 'Soyabean': 41, 'Beans & Mutter(Vegetable)': 42, 'Bhindi': 43, 'Brinjal': 44, 'Citrus Fruit': 45, 'Cucumber': 46, 'Grapes': 47, 'Mango': 48, 'Orange': 49, 'other fibres': 50, 'Other Fresh Fruits': 51, 'Other Vegetables': 52, 'Papaya': 53, 'Pome Fruit': 54, 'Tomato': 55, 'Mesta': 56, 'Cowpea(Lobia)': 57, 'Lemon': 58, 'Pome Granet': 59, 'Sapota': 60, 'Cabbage': 61, 'Rapeseed &Mustard': 62, 'Peas  (vegetable)': 63, 'Niger seed': 64, 'Bottle Gourd': 65, 'Varagu': 66, 'Garlic': 67, 'Ginger': 68, 'Oilseeds total': 69, 'Pulses total': 70, 'Jute': 71, 'Peas & beans (Pulses)': 72, 'Blackgram': 73, 'Paddy': 74, 'Pineapple': 75, 'Barley': 76, 'Sannhamp': 77, 'Khesari': 78, 'Guar seed': 79, 'Moth': 80, 'Other Cereals & Millets': 81, 'Cond-spcs other': 82, 'Turnip': 83, 'Carrot': 84, 'Redish': 85, 'Arcanut (Processed)': 86, 'Atcanut (Raw)': 87, 'Cashewnut Processed': 88, 'Cashewnut Raw': 89, 'Cardamom': 90, 'Rubber': 91, 'Bitter Gourd': 92, 'Drum Stick': 93, 'Jack Fruit': 94, 'Snak Guard': 95, 'Coffee': 96, 'Tea': 97, 'Cauliflower': 98, 'Other Citrus Fruit': 99, 'Water Melon': 100, 'Total foodgrain': 101, 'Kapas': 102, 'Colocosia': 103, 'Lentil': 104, 'Bean': 105, 'Jobster': 106, 'Perilla': 107, 'Rajmash Kholar': 108, 'Ricebean (nagadal)': 109, 'Ash Gourd': 110, 'Beet Root': 111, 'Lab-Lab': 112, 'Ribed Guard': 113, 'Yam': 114, 'Pump Kin': 115, 'Apple': 116, 'Peach': 117, 'Pear': 118, 'Plums': 119, 'Litchi': 120, 'Ber': 121, 'Other Dry Fruit': 122, 'Jute & mesta': 123}\n"
     ]
    }
   ],
   "source": [
    "for i in df.columns:\n",
    "    if df[i].dtype == 'object':\n",
    "        print(dict(zip(list(df[i].unique()),\n",
    "                       list(i for i in range(len(df[i].unique()))))))"
   ],
   "metadata": {
    "collapsed": false,
    "pycharm": {
     "name": "#%%\n"
    }
   }
  },
  {
   "cell_type": "code",
   "execution_count": 45,
   "outputs": [],
   "source": [
    "for col in ['State_Name', 'District_Name', 'Season', 'Crop', 'Area']:\n",
    "    df[col] = labelencoder.fit_transform(df[col])"
   ],
   "metadata": {
    "collapsed": false,
    "pycharm": {
     "name": "#%%\n"
    }
   }
  },
  {
   "cell_type": "code",
   "execution_count": 46,
   "outputs": [],
   "source": [
    "from lightgbm import LGBMRegressor as lc\n",
    "\n",
    "lcr = lc(bagging_fraction=0.4, bagging_freq=0, boosting_type='gbdt',\n",
    "         class_weight=None, colsample_bytree=1.0, feature_fraction=0.9,\n",
    "         importance_type='split', learning_rate=0.4, max_depth=-1,\n",
    "         min_child_samples=66, min_child_weight=0.001, min_split_gain=0,\n",
    "         n_estimators=30, n_jobs=-1, num_leaves=30, objective=None,\n",
    "         random_state=3475, reg_alpha=0.1, reg_lambda=0.15, silent=True,\n",
    "         subsample=1.0, subsample_for_bin=200000, subsample_freq=0)"
   ],
   "metadata": {
    "collapsed": false,
    "pycharm": {
     "name": "#%%\n"
    }
   }
  },
  {
   "cell_type": "code",
   "execution_count": 47,
   "outputs": [
    {
     "name": "stdout",
     "output_type": "stream",
     "text": [
      "[LightGBM] [Warning] feature_fraction is set=0.9, colsample_bytree=1.0 will be ignored. Current value: feature_fraction=0.9\n",
      "[LightGBM] [Warning] bagging_fraction is set=0.4, subsample=1.0 will be ignored. Current value: bagging_fraction=0.4\n",
      "[LightGBM] [Warning] bagging_freq is set=0, subsample_freq=0 will be ignored. Current value: bagging_freq=0\n"
     ]
    },
    {
     "data": {
      "text/plain": "LGBMRegressor(bagging_fraction=0.4, bagging_freq=0, feature_fraction=0.9,\n              learning_rate=0.4, min_child_samples=66, min_split_gain=0,\n              n_estimators=30, num_leaves=30, random_state=3475, reg_alpha=0.1,\n              reg_lambda=0.15)"
     },
     "execution_count": 47,
     "metadata": {},
     "output_type": "execute_result"
    }
   ],
   "source": [
    "lcr.fit(df.drop(['Production'], axis=1), df['Production'])"
   ],
   "metadata": {
    "collapsed": false,
    "pycharm": {
     "name": "#%%\n"
    }
   }
  },
  {
   "cell_type": "code",
   "execution_count": 50,
   "outputs": [],
   "source": [
    "\n",
    "import pickle\n",
    "\n",
    "filename = '../YieldPrediction/lightgbm_yield_model.pkl'\n",
    "pickle.dump(lcr, open(filename, 'wb'))"
   ],
   "metadata": {
    "collapsed": false,
    "pycharm": {
     "name": "#%%\n"
    }
   }
  },
  {
   "cell_type": "code",
   "execution_count": null,
   "outputs": [],
   "source": [],
   "metadata": {
    "collapsed": false,
    "pycharm": {
     "name": "#%%\n"
    }
   }
  }
 ],
 "metadata": {
  "kernelspec": {
   "display_name": "Python 3",
   "language": "python",
   "name": "python3"
  },
  "language_info": {
   "codemirror_mode": {
    "name": "ipython",
    "version": 2
   },
   "file_extension": ".py",
   "mimetype": "text/x-python",
   "name": "python",
   "nbconvert_exporter": "python",
   "pygments_lexer": "ipython2",
   "version": "2.7.6"
  }
 },
 "nbformat": 4,
 "nbformat_minor": 0
}